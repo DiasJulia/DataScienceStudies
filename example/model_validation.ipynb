{
 "cells": [
  {
   "attachments": {},
   "cell_type": "markdown",
   "metadata": {},
   "source": [
    "# Validação de Modelos\n",
    "É desejável avaliar qualquer modelo que se construir. Na maioria dos projetos a medida relevante para a qualidade do modelo é a sua precisão preditiva. Avaliar se as previsões do modelo estarão próximas do que realmente acontece.\n",
    "Medir as previsões fazendo-as com os dados usados para treinar o modelo e comparando-as aos dados de treino é um grande erro.\n",
    "\n",
    "Primeiramente, seria necessário sumarizar a qualidade do modelo em uma forma compreensível. Comparar grandes quantidades de dados previstos com os reais, chegaria a uma mistura de bons e maus resultados. Seria necessário reduzir essa medição a uma única métrica para recolher insights úteis.\n",
    "\n",
    "### Métricas de qualidade de modelo\n",
    "Vamos começar com a métrica `Mean Absolute Error` (MAE).\n",
    "O erro de uma previsçao para cada casa é dado por\n",
    "erro = `valor_real` - `valor_predito`\n",
    "\n",
    "A partir desse dado,para calcular a métrica MAE, tomamos o valor absoluto de cada erro cometido na previsão. Ou seja, convertemos para o módulo desse número para evitar valolres negativos. Então, calculamos a média desses valores.\n",
    "\n",
    "Em média, as predições estão erradas por aproximadamente X"
   ]
  },
  {
   "cell_type": "code",
   "execution_count": 1,
   "metadata": {},
   "outputs": [
    {
     "data": {
      "text/plain": [
       "DecisionTreeRegressor()"
      ]
     },
     "execution_count": 1,
     "metadata": {},
     "output_type": "execute_result"
    }
   ],
   "source": [
    "# Configurando o modelo a ser validado\n",
    "import pandas as pd\n",
    "\n",
    "melbourne_file_path = '../data/melb_data.csv'\n",
    "\n",
    "melbourne_data = pd.read_csv(melbourne_file_path)\n",
    "\n",
    "filtered_melbourne_data = melbourne_data.dropna(axis=0)\n",
    "\n",
    "y = filtered_melbourne_data.Price\n",
    "\n",
    "melbourne_features = ['Rooms', 'Bathroom', 'Landsize', 'BuildingArea', \n",
    "                        'YearBuilt', 'Lattitude', 'Longtitude']\n",
    "X = filtered_melbourne_data[melbourne_features]\n",
    "\n",
    "from sklearn.tree import DecisionTreeRegressor\n",
    "\n",
    "melbourne_model = DecisionTreeRegressor()\n",
    "\n",
    "melbourne_model.fit(X, y)"
   ]
  },
  {
   "attachments": {},
   "cell_type": "markdown",
   "metadata": {},
   "source": [
    "Uma vez que temos o nosso modelo, podemos calcular o MEA"
   ]
  },
  {
   "cell_type": "code",
   "execution_count": 2,
   "metadata": {},
   "outputs": [
    {
     "data": {
      "text/plain": [
       "434.71594577146544"
      ]
     },
     "execution_count": 2,
     "metadata": {},
     "output_type": "execute_result"
    }
   ],
   "source": [
    "from sklearn.metrics import mean_absolute_error\n",
    "\n",
    "# Calcula previsões de preços baseado nos dados de X\n",
    "predicted_home_prices = melbourne_model.predict(X)\n",
    "# Calcula o erro de X com relação a y\n",
    "mean_absolute_error(y, predicted_home_prices)"
   ]
  },
  {
   "attachments": {},
   "cell_type": "markdown",
   "metadata": {},
   "source": [
    "O problema de se usar a mesma base de dados tanto para construir quanto para avaliar é que os vícios criados por uma base de dados serão confirmados pela avaliação, mesmo que não estejam de acordo com o que deveria ser analisado."
   ]
  },
  {
   "attachments": {},
   "cell_type": "markdown",
   "metadata": {},
   "source": [
    "Preparando dados para avaliação, separando os dados em dois pedaços, um para ser usado para treino e outro para verificação"
   ]
  },
  {
   "cell_type": "code",
   "execution_count": 3,
   "metadata": {},
   "outputs": [
    {
     "data": {
      "text/plain": [
       "260412.63524854745"
      ]
     },
     "execution_count": 3,
     "metadata": {},
     "output_type": "execute_result"
    }
   ],
   "source": [
    "from sklearn.model_selection import train_test_split\n",
    "\n",
    "# Dividindo os dados para features e alvo\n",
    "# A divisão é baseada em um gerador de número aleatório\n",
    "train_X, val_X, train_y, val_y = train_test_split(X, y, random_state = 0)\n",
    "\n",
    "# Deninindo o modelo\n",
    "melbourne_model = DecisionTreeRegressor()\n",
    "# Fit\n",
    "melbourne_model.fit(train_X, train_y)\n",
    "\n",
    "val_predictions = melbourne_model.predict(val_X)\n",
    "mean_absolute_error(val_y, val_predictions)\n"
   ]
  },
  {
   "attachments": {},
   "cell_type": "markdown",
   "metadata": {},
   "source": [
    "O valor retornado pela métrica foi de 500 para a amostra \"in-sample\" para mais de 250000, o que indica um modelo praticamente inutilizável. "
   ]
  }
 ],
 "metadata": {
  "kernelspec": {
   "display_name": "Python 3",
   "language": "python",
   "name": "python3"
  },
  "language_info": {
   "codemirror_mode": {
    "name": "ipython",
    "version": 3
   },
   "file_extension": ".py",
   "mimetype": "text/x-python",
   "name": "python",
   "nbconvert_exporter": "python",
   "pygments_lexer": "ipython3",
   "version": "3.8.5"
  },
  "orig_nbformat": 4
 },
 "nbformat": 4,
 "nbformat_minor": 2
}
